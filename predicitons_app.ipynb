{
 "cells": [
  {
   "metadata": {},
   "cell_type": "code",
   "outputs": [],
   "execution_count": null,
   "source": [
    "# --- Cell 1: Imports ---\n",
    "import ipywidgets as widgets\n",
    "from IPython.display import display, clear_output\n",
    "import pandas as pd\n",
    "from datetime import datetime\n",
    "import os"
   ],
   "id": "2527859fb489efb6"
  },
  {
   "metadata": {},
   "cell_type": "code",
   "outputs": [],
   "execution_count": null,
   "source": [
    "# --- Cell 2: Setup ---\n",
    "# List of 15 countries for Semi-Final 1\n",
    "countries = [\n",
    "    \"Norway\", \"Sweden\", \"Finland\", \"Denmark\", \"Iceland\",\n",
    "    \"Belgium\", \"Netherlands\", \"Austria\", \"Poland\", \"Switzerland\",\n",
    "    \"Czechia\", \"Portugal\", \"Serbia\", \"Ireland\", \"Greece\"\n",
    "]\n",
    "\n",
    "# Widgets\n",
    "username_input = widgets.Text(\n",
    "    description=\"Your name:\",\n",
    "    placeholder=\"Enter your name\",\n",
    "    style={'description_width': 'initial'}\n",
    ")\n",
    "\n",
    "country_select = widgets.SelectMultiple(\n",
    "    options=countries,\n",
    "    description=\"Pick 10 qualifiers:\",\n",
    "    rows=15,\n",
    "    style={'description_width': 'initial'}\n",
    ")\n",
    "\n",
    "submit_button = widgets.Button(\n",
    "    description=\"Submit Prediction\",\n",
    "    button_style='success'\n",
    ")\n",
    "\n",
    "output = widgets.Output()"
   ],
   "id": "5e12621a7d89b891"
  },
  {
   "metadata": {},
   "cell_type": "code",
   "outputs": [],
   "execution_count": null,
   "source": [
    "# --- Cell 3: Logic ---\n",
    "def on_submit(b):\n",
    "    with output:\n",
    "        clear_output()\n",
    "\n",
    "        username = username_input.value.strip()\n",
    "        selections = list(country_select.value)\n",
    "        timestamp = datetime.now().strftime(\"%Y-%m-%d %H:%M:%S\")\n",
    "\n",
    "        if not username:\n",
    "            print(\"⚠️ Please enter your name.\")\n",
    "            return\n",
    "        if len(selections) != 10:\n",
    "            print(\"⚠️ Please select exactly 10 countries.\")\n",
    "            return\n",
    "\n",
    "        filename = f\"predictions_{username.lower().replace(' ', '_')}.csv\"\n",
    "        df = pd.DataFrame({\n",
    "            'Timestamp': [timestamp] * 10,\n",
    "            'Username': [username] * 10,\n",
    "            'Predicted Qualifier': selections\n",
    "        })\n",
    "\n",
    "        df.to_csv(filename, index=False)\n",
    "        print(f\"✅ Predictions saved to '{filename}' at {timestamp}\")\n",
    "        display(df)\n"
   ],
   "id": "4da878e2ed2c8706"
  },
  {
   "metadata": {},
   "cell_type": "code",
   "outputs": [],
   "execution_count": null,
   "source": [
    "# --- Cell 4: Display Form ---\n",
    "display(username_input, country_select, submit_button, output)\n",
    "submit_button.on_click(on_submit)"
   ],
   "id": "91145ef5aa41f254"
  }
 ],
 "metadata": {
  "kernelspec": {
   "display_name": "Python 3",
   "language": "python",
   "name": "python3"
  },
  "language_info": {
   "codemirror_mode": {
    "name": "ipython",
    "version": 2
   },
   "file_extension": ".py",
   "mimetype": "text/x-python",
   "name": "python",
   "nbconvert_exporter": "python",
   "pygments_lexer": "ipython2",
   "version": "2.7.6"
  }
 },
 "nbformat": 4,
 "nbformat_minor": 5
}
